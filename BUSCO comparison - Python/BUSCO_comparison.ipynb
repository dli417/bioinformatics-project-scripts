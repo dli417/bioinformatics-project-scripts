{
 "cells": [
  {
   "cell_type": "code",
   "execution_count": 1,
   "metadata": {},
   "outputs": [],
   "source": [
    "# import modules\n",
    "\n",
    "import os\n",
    "import pandas as pd"
   ]
  },
  {
   "cell_type": "code",
   "execution_count": 2,
   "metadata": {},
   "outputs": [],
   "source": [
    "# set working path and import BUSCO TSV files\n",
    "\n",
    "abspath = os.path.abspath('')\n",
    "os.chdir(abspath)\n",
    "\n",
    "ref_genome = pd.read_csv('./reference_genome_full_table.tsv', sep='\\t', skiprows=2)\n",
    "ref_proteome = pd.read_csv('./reference_proteome_full_table.tsv', sep='\\t', skiprows=2)\n",
    "de_novo = pd.read_csv('./trinity_full_table.tsv', sep='\\t', skiprows=2)"
   ]
  },
  {
   "cell_type": "code",
   "execution_count": 3,
   "metadata": {},
   "outputs": [],
   "source": [
    "# replace spaces with underscores in headers, rename busco id column\n",
    "\n",
    "ref_genome.columns = ref_genome.columns.str.replace(' ', '_')\n",
    "ref_proteome.columns = ref_proteome.columns.str.replace(' ', '_')\n",
    "de_novo.columns = de_novo.columns.str.replace(' ', '_')\n",
    "\n",
    "ref_genome.rename(columns={'#_Busco_id':'Busco_id'}, inplace=True)\n",
    "ref_proteome.rename(columns={'#_Busco_id':'Busco_id'}, inplace=True)\n",
    "de_novo.rename(columns={'#_Busco_id':'Busco_id'}, inplace=True)"
   ]
  },
  {
   "cell_type": "code",
   "execution_count": 9,
   "metadata": {},
   "outputs": [],
   "source": [
    "# retain first duplicated row, discard the rest\n",
    "\n",
    "ref_genome.drop_duplicates(subset = 'Busco_id', keep = 'first', inplace = True)\n",
    "ref_proteome.drop_duplicates(subset = 'Busco_id', keep = 'first', inplace = True)\n",
    "de_novo.drop_duplicates(subset = 'Busco_id', keep = 'first', inplace = True)"
   ]
  },
  {
   "cell_type": "code",
   "execution_count": 8,
   "metadata": {},
   "outputs": [],
   "source": [
    "# create dataframes with complete/duplicated BUSCO IDs\n",
    "\n",
    "# ref_genome complete sequences only\n",
    "# ref_genome_complete = ref_genome[(ref_genome['Status'] == 'Complete')]\n",
    "ref_genome_complete = ref_genome[(ref_genome['Status'].str.contains('Complete|Duplicated|Fragmented'))]\n",
    "ref_proteome_complete = ref_proteome[(ref_proteome['Status'].str.contains('Complete|Duplicated|Fragmented'))]\n",
    "de_novo_complete = de_novo[(de_novo['Status'].str.contains('Complete|Duplicated|Fragmented'))]"
   ]
  },
  {
   "cell_type": "code",
   "execution_count": 6,
   "metadata": {},
   "outputs": [
    {
     "name": "stdout",
     "output_type": "stream",
     "text": [
      "De novo BUSCOs not in reference genome: 193\n",
      "De novo BUSCOs not in reference proteome: 247\n"
     ]
    }
   ],
   "source": [
    "# identify complete de_novo BUSCO ids not in ref_genome or ref_proteome\n",
    "\n",
    "de_novo_missing_from_ref_genome = de_novo_complete[~de_novo_complete.Busco_id.isin(ref_genome_complete.Busco_id)]\n",
    "de_novo_missing_from_ref_proteome = de_novo_complete[~de_novo_complete.Busco_id.isin(ref_proteome_complete.Busco_id)]\n",
    "print(f\"De novo BUSCOs not in reference genome: {len(de_novo_missing_from_ref_genome)}\")\n",
    "print(f\"De novo BUSCOs not in reference proteome: {len(de_novo_missing_from_ref_proteome)}\")"
   ]
  },
  {
   "cell_type": "code",
   "execution_count": 7,
   "metadata": {},
   "outputs": [
    {
     "name": "stdout",
     "output_type": "stream",
     "text": [
      "Reference genome BUSCOs not in de novo transcriptome: 220\n",
      "Reference genome BUSCOs not in de novo transcriptome: 231\n"
     ]
    }
   ],
   "source": [
    "# identify complete ref_genome and ref_proteome BUSCO ids not in de_novo\n",
    "\n",
    "ref_genome_missing_from_de_novo = ref_genome_complete[~ref_genome_complete.Busco_id.isin(de_novo_complete.Busco_id)]\n",
    "ref_proteome_missing_from_de_novo = ref_proteome_complete[~ref_proteome_complete.Busco_id.isin(de_novo_complete.Busco_id)]\n",
    "print(f\"Reference genome BUSCOs not in de novo transcriptome: {len(ref_genome_missing_from_de_novo)}\")\n",
    "print(f\"Reference genome BUSCOs not in de novo transcriptome: {len(ref_proteome_missing_from_de_novo)}\")"
   ]
  },
  {
   "cell_type": "markdown",
   "metadata": {},
   "source": [
    "## BUSCO troubleshooting"
   ]
  },
  {
   "cell_type": "code",
   "execution_count": 1,
   "metadata": {},
   "outputs": [],
   "source": [
    "from Bio import SeqIO"
   ]
  },
  {
   "cell_type": "code",
   "execution_count": 8,
   "metadata": {},
   "outputs": [],
   "source": [
    "trinity_dict = {}\n",
    "with open(\"/Users/danielli/Syncthing/UoB/unsynced/research_project/summarise_blast/trinity_full_table.tsv\") as trinity_file:\n",
    "    # create missing counter; missing plus trinity_dict should equal 2510, the number of BUSCOs in the hemiptera_odb10.2019-11-20 database\n",
    "    trinity_missing_count = 0\n",
    "    # skip first 3 header lines\n",
    "    for _ in range(3):\n",
    "        next(trinity_file)\n",
    "    for line in trinity_file:\n",
    "        # skip missing BUSCOs\n",
    "        if line.split()[1] == 'Missing':\n",
    "            trinity_missing_count += 1\n",
    "            continue\n",
    "        (buscoid, status, contigid, rest_of_line) = line.split('\\t', 3)\n",
    "        # get contig name by removing ':number-number' from contigid\n",
    "        contig_name = contigid.split(':')[0]\n",
    "        # if contig_name in trinity_dict:\n",
    "        #     trinity_dict[contig_name] = f\"{trinity_dict[contig_name]},{buscoid}\"\n",
    "        # else:\n",
    "        #     trinity_dict[contig_name] = buscoid\n",
    "        if buscoid in trinity_dict:\n",
    "            trinity_dict[buscoid] = f\"{trinity_dict[buscoid]},{contig_name}\"\n",
    "        else:\n",
    "            trinity_dict[buscoid] = contig_name"
   ]
  },
  {
   "cell_type": "code",
   "execution_count": 10,
   "metadata": {},
   "outputs": [],
   "source": [
    "refgen_dict = {}\n",
    "with open(\"/Users/danielli/Syncthing/UoB/unsynced/research_project/summarise_blast/trinity_full_table.tsv\") as refgen_file:\n",
    "    # create missing counter; missing plus trinity_dict should equal 2510, the number of BUSCOs in the hemiptera_odb10.2019-11-20 database\n",
    "    refgen_missing_count = 0\n",
    "    # skip first 3 header lines\n",
    "    for _ in range(3):\n",
    "        next(refgen_file)\n",
    "    for line in refgen_file:\n",
    "        # skip missing BUSCOs\n",
    "        if line.split()[1] == 'Missing':\n",
    "            refgen_missing_count += 1\n",
    "            continue\n",
    "        (buscoid, status, contigid, rest_of_line) = line.split('\\t', 3)\n",
    "        # get contig name by removing ':number-number' from contigid\n",
    "        contig_name = contigid.split(':')[0]\n",
    "        # if contig_name in trinity_dict:\n",
    "        #     refgen_dict[refgen_name] = f\"{refgen_dict[contig_name]},{buscoid}\"\n",
    "        # else:\n",
    "        #     refgen_dict[contig_name] = buscoid\n",
    "        if buscoid in refgen_dict:\n",
    "            refgen_dict[buscoid] = f\"{refgen_dict[buscoid]},{contig_name}\"\n",
    "        else:\n",
    "            refgen_dict[buscoid] = contig_name"
   ]
  },
  {
   "cell_type": "code",
   "execution_count": null,
   "metadata": {},
   "outputs": [],
   "source": [
    "refprot_dict = {}\n",
    "with open(\"/Users/danielli/Syncthing/UoB/Coursework/BIOLM0034_Research_Project/Project_proper/BUSCO_comparison/reference_genome_full_table.tsv\") as refprot_file:\n",
    "    # create missing counter; missing plus trinity_dict should equal 2510, the number of BUSCOs in the hemiptera_odb10.2019-11-20 database\n",
    "    refprot_missing_count = 0\n",
    "    # skip first 3 header lines\n",
    "    for _ in range(3):\n",
    "        next(refprot_file)\n",
    "    for line in refprot_file:\n",
    "        # skip missing BUSCOs\n",
    "        if line.split()[1] == 'Missing':\n",
    "            refprot_missing_count += 1\n",
    "            continue\n",
    "        (buscoid, status, contigid, rest_of_line) = line.split('\\t', 3)\n",
    "        # get contig name by removing ':number-number' from contigid\n",
    "        contig_name = contigid.split(':')[0]\n",
    "        # if contig_name in trinity_dict:\n",
    "        #     refgen_dict[refgen_name] = f\"{refgen_dict[contig_name]},{buscoid}\"\n",
    "        # else:\n",
    "        #     refgen_dict[contig_name] = buscoid\n",
    "        if buscoid in refprot_dict:\n",
    "            refprot_dict[buscoid] = f\"{refprot_dict[buscoid]},{contig_name}\"\n",
    "        else:\n",
    "            refprot_dict[buscoid] = contig_name"
   ]
  }
 ],
 "metadata": {
  "interpreter": {
   "hash": "574b30fb0deb987b25415a625576463948c67802fcda77a07f093f163f2447ae"
  },
  "kernelspec": {
   "display_name": "Python 3.10.0 64-bit",
   "language": "python",
   "name": "python3"
  },
  "language_info": {
   "codemirror_mode": {
    "name": "ipython",
    "version": 3
   },
   "file_extension": ".py",
   "mimetype": "text/x-python",
   "name": "python",
   "nbconvert_exporter": "python",
   "pygments_lexer": "ipython3",
   "version": "3.10.0"
  },
  "orig_nbformat": 4
 },
 "nbformat": 4,
 "nbformat_minor": 2
}
